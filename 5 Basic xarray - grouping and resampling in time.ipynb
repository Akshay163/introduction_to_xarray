{
 "cells": [
  {
   "cell_type": "markdown",
   "metadata": {},
   "source": [
    "# Grouping and resampling"
   ]
  },
  {
   "cell_type": "markdown",
   "metadata": {},
   "source": [
    "xarray was developed as an n-dimensional extension of [pandas](https://pandas.pydata.org), a very powerful data analysis library designed primarily for tabular data and time series analysis.\n",
    "\n",
    "As a result xarray can utilise much of the time series manipulation power of pandas. The relevant xarray documentation is contained in the [GroupBy](http://xarray.pydata.org/en/stable/groupby.html) and [Time series data](http://xarray.pydata.org/en/stable/time-series.html) sections."
   ]
  },
  {
   "cell_type": "markdown",
   "metadata": {},
   "source": [
    "In this case we need to do some extra imports to avoid pandas emitting warnings"
   ]
  },
  {
   "cell_type": "code",
   "execution_count": null,
   "metadata": {},
   "outputs": [],
   "source": [
    "import xarray, matplotlib.pyplot as plt\n",
    "from pandas.plotting import register_matplotlib_converters\n",
    "register_matplotlib_converters()"
   ]
  },
  {
   "cell_type": "code",
   "execution_count": null,
   "metadata": {},
   "outputs": [],
   "source": [
    "%matplotlib inline"
   ]
  },
  {
   "cell_type": "markdown",
   "metadata": {},
   "source": [
    "Load a CMIP5 air temperature data set into the variable `ds`, and make a variable, `tas`, which directly references the near surface air temperature `DataArray`"
   ]
  },
  {
   "cell_type": "code",
   "execution_count": null,
   "metadata": {},
   "outputs": [],
   "source": [
    "ds = xarray.open_dataset('http://dapds00.nci.org.au/thredds/dodsC/rr3/CMIP5/output1/CSIRO-BOM/ACCESS1-3/historical/mon/atmos/Amon/r1i1p1/latest/tas/tas_Amon_ACCESS1-3_historical_r1i1p1_185001-200512.nc')\n",
    "tas = ds.tas"
   ]
  },
  {
   "cell_type": "markdown",
   "metadata": {},
   "source": [
    "Calculate the 30 year climatology and anomalies as in the previous tutorial"
   ]
  },
  {
   "cell_type": "code",
   "execution_count": null,
   "metadata": {},
   "outputs": [],
   "source": [
    "tas_clim = tas.sel(time=slice('1960-01','1989-12')).mean(dim='time')\n",
    "tas_anom = (tas - tas_clim)"
   ]
  },
  {
   "cell_type": "markdown",
   "metadata": {},
   "source": [
    "As before, plotting the global anomaly from 1960 by time"
   ]
  },
  {
   "cell_type": "code",
   "execution_count": null,
   "metadata": {},
   "outputs": [],
   "source": [
    "tas_anom.sel(time=slice('1960-01',None)).mean(dim=('lat','lon')).plot(size=6)"
   ]
  },
  {
   "cell_type": "markdown",
   "metadata": {},
   "source": [
    "To highlight any global warming trend it would be better to show annual values. This can be done by resampling the data to an annual frequency. The `resample` method takes a dimension and resample period key/pair. In this case yearly frequency is specified with `Y` (see the pandas documentation for a [complete listing of frequency strings](https://pandas.pydata.org/pandas-docs/stable/user_guide/timeseries.html#dateoffset-objects)).\n",
    "\n",
    "The `resample` method returns a resample object, which could be iterated over. In this case by specifying an operator (`mean`) this will be applied to each resampled period in turn, producing an annual mean in this case. Note that it is necessary to specify a dimension over which to apply the `mean` operator, otherwise  the operator will be applied across `lat` and `lon` reducing the dimensionality of the result. This is ultimately what is required, but keeping the spatial dimensions at this point is useful"
   ]
  },
  {
   "cell_type": "code",
   "execution_count": null,
   "metadata": {},
   "outputs": [],
   "source": [
    "tas_anom_yearly = tas_anom.sel(time=slice('1960-01',None)).resample(time='Y').mean(dim='time')\n",
    "tas_anom_yearly.dims, tas_anom_yearly.shape"
   ]
  },
  {
   "cell_type": "markdown",
   "metadata": {},
   "source": [
    "The dimensions and shape show the time dimension has been reduced to 46 years"
   ]
  },
  {
   "cell_type": "markdown",
   "metadata": {},
   "source": [
    "Now the global `mean` shows a clear warming trend"
   ]
  },
  {
   "cell_type": "code",
   "execution_count": null,
   "metadata": {},
   "outputs": [],
   "source": [
    "tas_anom_yearly.mean(dim=('lat','lon')).plot(size=6)"
   ]
  },
  {
   "cell_type": "markdown",
   "metadata": {},
   "source": [
    "Because `tas_anom_yearly` still has spatial dimensions it is now possible to use `.sel` to calculate the same trend for the northern and southern hemisphere separately.\n",
    "\n",
    "In the plot below to make the lines appear on the same plot it is necessary to specify the `matplotlib.axes` object directly so that it can be passed to each of the plots"
   ]
  },
  {
   "cell_type": "code",
   "execution_count": null,
   "metadata": {},
   "outputs": [],
   "source": [
    "axes = plt.axes()\n",
    "axes.figure.set_size_inches(8, 6)\n",
    "tas_anom_yearly.mean(dim=('lat','lon')).plot(ax=axes, label='Global')\n",
    "tas_anom_yearly.sel(lat=slice(0,None)).mean(dim=('lat','lon')).plot(ax=axes, label='Northern Hemisphere')\n",
    "tas_anom_yearly.sel(lat=slice(None,0)).mean(dim=('lat','lon')).plot(ax=axes, label='Southern Hemisphere')\n",
    "plt.title('Temperature anomalies from a 1960-1990 climatology')\n",
    "plt.legend()"
   ]
  },
  {
   "cell_type": "markdown",
   "metadata": {},
   "source": [
    "Splitting into hemispheres shows both hemispheres are in sync for most of the plotted interval, but diverge in the last few years."
   ]
  },
  {
   "cell_type": "markdown",
   "metadata": {},
   "source": [
    "To go further and split the trend more finely in latitude it is easier to use the `xarray.groupby_bins` function. It is called with a coordinate and either a number of `bins` or an array of values specifying the start and end of each bin.\n",
    "\n",
    "It returns a `groupby` object which can be iterated over, or chain a function which will applied to each group. \n",
    "\n",
    "To understand what the `groupby` is doing, here the `for` loop is iterating over the `groupby` object, which returns a tuple of interval and `DataArray` object. The interval and the dimensions and their shape show that each is just a `slice` of the data in latitude."
   ]
  },
  {
   "cell_type": "code",
   "execution_count": null,
   "metadata": {},
   "outputs": [],
   "source": [
    "for i, d in tas_anom_yearly.groupby_bins('lat', bins=10):\n",
    "    print(i, d.dims, d.shape)"
   ]
  },
  {
   "cell_type": "markdown",
   "metadata": {},
   "source": [
    "Below the same `groupby_bins` operation has the `mean` in `lat` and `lon` applied and then plotted. The `lat_bins` dimension is created by xarray, and by specifying that as the `hue` xarray automatially generates 10 individual lines, one for each bin, on the same plot."
   ]
  },
  {
   "cell_type": "code",
   "execution_count": null,
   "metadata": {},
   "outputs": [],
   "source": [
    "tas_anom_yearly.groupby_bins('lat', bins=10).mean(dim=('lat','lon')).plot(x='time',hue='lat_bins',size=8)"
   ]
  },
  {
   "cell_type": "markdown",
   "metadata": {},
   "source": [
    "Finely grouping in latitude shows the rapid increase in anomalies at the end of the time series is dominated by large changes at the northern high latitudes."
   ]
  },
  {
   "cell_type": "markdown",
   "metadata": {},
   "source": [
    "xarray has some special virtual time coordinates. `time.season` is one of these. Below the seasonal mean of `tas` for each location is calculated and all plotted in a `FacetGrid` by specifying a `col` coordinate option to `plot`"
   ]
  },
  {
   "cell_type": "code",
   "execution_count": null,
   "metadata": {},
   "outputs": [],
   "source": [
    "tas.groupby('time.season').mean(dim='time').plot(col='season', col_wrap=2)"
   ]
  }
 ],
 "metadata": {
  "kernelspec": {
   "display_name": "Python [conda env:analysis3-19.07]",
   "language": "python",
   "name": "conda-env-analysis3-19.07-py"
  },
  "language_info": {
   "codemirror_mode": {
    "name": "ipython",
    "version": 3
   },
   "file_extension": ".py",
   "mimetype": "text/x-python",
   "name": "python",
   "nbconvert_exporter": "python",
   "pygments_lexer": "ipython3",
   "version": "3.6.7"
  }
 },
 "nbformat": 4,
 "nbformat_minor": 2
}
